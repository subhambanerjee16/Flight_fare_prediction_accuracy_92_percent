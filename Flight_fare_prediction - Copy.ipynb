{
 "cells": [
  {
   "cell_type": "code",
   "execution_count": 1,
   "metadata": {
    "colab": {},
    "colab_type": "code",
    "id": "P90trAapiilb"
   },
   "outputs": [],
   "source": [
    "import pandas as pd\n",
    "import numpy as np\n",
    "from scipy.stats import chi2_contingency \n",
    "from sklearn import preprocessing \n",
    "from sklearn.neighbors import KNeighborsRegressor\n",
    "from sklearn.model_selection import GridSearchCV\n",
    "from sklearn.model_selection import GridSearchCV, cross_val_score\n",
    "from sklearn.ensemble import RandomForestRegressor\n",
    "from sklearn.ensemble import GradientBoostingRegressor\n",
    "from xgboost import XGBRegressor"
   ]
  },
  {
   "cell_type": "code",
   "execution_count": 2,
   "metadata": {
    "colab": {},
    "colab_type": "code",
    "id": "cqkfyy7nUhf-"
   },
   "outputs": [],
   "source": [
    "train=pd.read_excel(\"Data_Train.xlsx\")"
   ]
  },
  {
   "cell_type": "code",
   "execution_count": 3,
   "metadata": {
    "colab": {
     "base_uri": "https://localhost:8080/",
     "height": 107
    },
    "colab_type": "code",
    "id": "qUAVSw2jU9cF",
    "outputId": "25115f5a-350f-4e15-c0a5-2b944b614888"
   },
   "outputs": [
    {
     "data": {
      "text/html": [
       "<div>\n",
       "<style scoped>\n",
       "    .dataframe tbody tr th:only-of-type {\n",
       "        vertical-align: middle;\n",
       "    }\n",
       "\n",
       "    .dataframe tbody tr th {\n",
       "        vertical-align: top;\n",
       "    }\n",
       "\n",
       "    .dataframe thead th {\n",
       "        text-align: right;\n",
       "    }\n",
       "</style>\n",
       "<table border=\"1\" class=\"dataframe\">\n",
       "  <thead>\n",
       "    <tr style=\"text-align: right;\">\n",
       "      <th></th>\n",
       "      <th>Airline</th>\n",
       "      <th>Date_of_Journey</th>\n",
       "      <th>Source</th>\n",
       "      <th>Destination</th>\n",
       "      <th>Route</th>\n",
       "      <th>Dep_Time</th>\n",
       "      <th>Arrival_Time</th>\n",
       "      <th>Duration</th>\n",
       "      <th>Total_Stops</th>\n",
       "      <th>Additional_Info</th>\n",
       "      <th>Price</th>\n",
       "    </tr>\n",
       "  </thead>\n",
       "  <tbody>\n",
       "    <tr>\n",
       "      <td>0</td>\n",
       "      <td>IndiGo</td>\n",
       "      <td>24/03/2019</td>\n",
       "      <td>Banglore</td>\n",
       "      <td>New Delhi</td>\n",
       "      <td>BLR → DEL</td>\n",
       "      <td>22:20</td>\n",
       "      <td>01:10 22 Mar</td>\n",
       "      <td>2h 50m</td>\n",
       "      <td>non-stop</td>\n",
       "      <td>No info</td>\n",
       "      <td>3897</td>\n",
       "    </tr>\n",
       "    <tr>\n",
       "      <td>1</td>\n",
       "      <td>Air India</td>\n",
       "      <td>1/05/2019</td>\n",
       "      <td>Kolkata</td>\n",
       "      <td>Banglore</td>\n",
       "      <td>CCU → IXR → BBI → BLR</td>\n",
       "      <td>05:50</td>\n",
       "      <td>13:15</td>\n",
       "      <td>7h 25m</td>\n",
       "      <td>2 stops</td>\n",
       "      <td>No info</td>\n",
       "      <td>7662</td>\n",
       "    </tr>\n",
       "  </tbody>\n",
       "</table>\n",
       "</div>"
      ],
      "text/plain": [
       "     Airline Date_of_Journey    Source Destination                  Route  \\\n",
       "0     IndiGo      24/03/2019  Banglore   New Delhi              BLR → DEL   \n",
       "1  Air India       1/05/2019   Kolkata    Banglore  CCU → IXR → BBI → BLR   \n",
       "\n",
       "  Dep_Time  Arrival_Time Duration Total_Stops Additional_Info  Price  \n",
       "0    22:20  01:10 22 Mar   2h 50m    non-stop         No info   3897  \n",
       "1    05:50         13:15   7h 25m     2 stops         No info   7662  "
      ]
     },
     "execution_count": 3,
     "metadata": {},
     "output_type": "execute_result"
    }
   ],
   "source": [
    "train.head(2)"
   ]
  },
  {
   "cell_type": "code",
   "execution_count": 4,
   "metadata": {
    "colab": {
     "base_uri": "https://localhost:8080/",
     "height": 216
    },
    "colab_type": "code",
    "id": "jFPcM-rcVMVg",
    "outputId": "754feb94-ed3d-47f4-900f-5c47128b8af8"
   },
   "outputs": [
    {
     "name": "stdout",
     "output_type": "stream",
     "text": [
      "Airline            0\n",
      "Date_of_Journey    0\n",
      "Source             0\n",
      "Destination        0\n",
      "Route              1\n",
      "Dep_Time           0\n",
      "Arrival_Time       0\n",
      "Duration           0\n",
      "Total_Stops        1\n",
      "Additional_Info    0\n",
      "Price              0\n",
      "dtype: int64\n"
     ]
    }
   ],
   "source": [
    "print(train.isnull().sum())"
   ]
  },
  {
   "cell_type": "code",
   "execution_count": 5,
   "metadata": {
    "colab": {},
    "colab_type": "code",
    "id": "Zbr8TIMbVaC4"
   },
   "outputs": [],
   "source": [
    "train=train.dropna()"
   ]
  },
  {
   "cell_type": "code",
   "execution_count": 6,
   "metadata": {},
   "outputs": [],
   "source": [
    "train=train.drop_duplicates()"
   ]
  },
  {
   "cell_type": "code",
   "execution_count": 7,
   "metadata": {},
   "outputs": [],
   "source": [
    "#save numeric names\n",
    "cnames =  [\"Price\"]\n",
    "# #Detect and delete outliers from data\n",
    "for i in cnames:\n",
    "    q75, q25 = np.percentile(train.loc[:,i], [75 ,25])\n",
    "    iqr = q75 - q25\n",
    "    min = q25 - (iqr*1.5)\n",
    "    max = q75 + (iqr*1.5)\n",
    "    train = train.drop(train[train.loc[:,i] < min].index)\n",
    "    train = train.drop(train[train.loc[:,i] > max].index)"
   ]
  },
  {
   "cell_type": "code",
   "execution_count": 8,
   "metadata": {
    "colab": {},
    "colab_type": "code",
    "id": "-k37fJh_Vi7K"
   },
   "outputs": [],
   "source": [
    "train['Journey_Day'] = pd.to_datetime(train.Date_of_Journey, format='%d/%m/%Y').dt.day\n",
    "train['Journey_Month'] = pd.to_datetime(train.Date_of_Journey, format='%d/%m/%Y').dt.month\n",
    "train['weekday']= pd.to_datetime(train.Date_of_Journey, format='%d/%m/%Y').dt.weekday"
   ]
  },
  {
   "cell_type": "code",
   "execution_count": 9,
   "metadata": {
    "colab": {},
    "colab_type": "code",
    "id": "Js4LPehmXYTD"
   },
   "outputs": [],
   "source": [
    "#Transforming duration to minutes\n",
    "def duration(test):\n",
    "    test = test.strip()\n",
    "    total=test.split(' ')\n",
    "    to=total[0]\n",
    "    hrs=(int)(to[:-1])*60\n",
    "    if((len(total))==2):\n",
    "        mint=(int)(total[1][:-1])\n",
    "        hrs=hrs+mint\n",
    "    test=str(hrs)\n",
    "    return test\n",
    "train['Duration']=train['Duration'].apply(duration)"
   ]
  },
  {
   "cell_type": "code",
   "execution_count": 10,
   "metadata": {
    "colab": {},
    "colab_type": "code",
    "id": "E2SGiKtrXVrg"
   },
   "outputs": [],
   "source": [
    "#Categorising departure and arrival time\n",
    "def deparrtime(x):\n",
    "    x=x.strip()\n",
    "    tt=(int)(x.split(':')[0])\n",
    "    if(tt>=16 and tt<21):\n",
    "        x='Evening'\n",
    "    elif(tt>=21 or tt<5):\n",
    "        x='Night'\n",
    "    elif(tt>=5 and tt<11):\n",
    "        x='Morning'\n",
    "    elif(tt>=11 and tt<16):\n",
    "        x='Afternoon'\n",
    "    return x\n",
    "train['Dep_Time']=train['Dep_Time'].apply(deparrtime)\n",
    "train['Arrival_Time']=train['Arrival_Time'].apply(deparrtime)"
   ]
  },
  {
   "cell_type": "code",
   "execution_count": 11,
   "metadata": {
    "colab": {},
    "colab_type": "code",
    "id": "CFiBL0YxX3F5"
   },
   "outputs": [],
   "source": [
    "#Refining total stops column\n",
    "def stops(x):\n",
    "    if(x=='non-stop'):\n",
    "        x=str(0)\n",
    "    else:\n",
    "        x.strip()\n",
    "        stps=x.split(' ')[0]\n",
    "        x=stps\n",
    "    return x\n",
    "train['Total_Stops']=train['Total_Stops'].apply(stops)"
   ]
  },
  {
   "cell_type": "code",
   "execution_count": 12,
   "metadata": {
    "colab": {
     "base_uri": "https://localhost:8080/",
     "height": 107
    },
    "colab_type": "code",
    "id": "Dw83XtTxX7av",
    "outputId": "b8dfcbdc-74c4-4b38-9f85-91834c7a67e8"
   },
   "outputs": [
    {
     "data": {
      "text/html": [
       "<div>\n",
       "<style scoped>\n",
       "    .dataframe tbody tr th:only-of-type {\n",
       "        vertical-align: middle;\n",
       "    }\n",
       "\n",
       "    .dataframe tbody tr th {\n",
       "        vertical-align: top;\n",
       "    }\n",
       "\n",
       "    .dataframe thead th {\n",
       "        text-align: right;\n",
       "    }\n",
       "</style>\n",
       "<table border=\"1\" class=\"dataframe\">\n",
       "  <thead>\n",
       "    <tr style=\"text-align: right;\">\n",
       "      <th></th>\n",
       "      <th>Airline</th>\n",
       "      <th>Date_of_Journey</th>\n",
       "      <th>Source</th>\n",
       "      <th>Destination</th>\n",
       "      <th>Route</th>\n",
       "      <th>Dep_Time</th>\n",
       "      <th>Arrival_Time</th>\n",
       "      <th>Duration</th>\n",
       "      <th>Total_Stops</th>\n",
       "      <th>Additional_Info</th>\n",
       "      <th>Price</th>\n",
       "      <th>Journey_Day</th>\n",
       "      <th>Journey_Month</th>\n",
       "      <th>weekday</th>\n",
       "    </tr>\n",
       "  </thead>\n",
       "  <tbody>\n",
       "    <tr>\n",
       "      <td>0</td>\n",
       "      <td>IndiGo</td>\n",
       "      <td>24/03/2019</td>\n",
       "      <td>Banglore</td>\n",
       "      <td>New Delhi</td>\n",
       "      <td>BLR → DEL</td>\n",
       "      <td>Night</td>\n",
       "      <td>Night</td>\n",
       "      <td>170</td>\n",
       "      <td>0</td>\n",
       "      <td>No info</td>\n",
       "      <td>3897</td>\n",
       "      <td>24</td>\n",
       "      <td>3</td>\n",
       "      <td>6</td>\n",
       "    </tr>\n",
       "    <tr>\n",
       "      <td>1</td>\n",
       "      <td>Air India</td>\n",
       "      <td>1/05/2019</td>\n",
       "      <td>Kolkata</td>\n",
       "      <td>Banglore</td>\n",
       "      <td>CCU → IXR → BBI → BLR</td>\n",
       "      <td>Morning</td>\n",
       "      <td>Afternoon</td>\n",
       "      <td>445</td>\n",
       "      <td>2</td>\n",
       "      <td>No info</td>\n",
       "      <td>7662</td>\n",
       "      <td>1</td>\n",
       "      <td>5</td>\n",
       "      <td>2</td>\n",
       "    </tr>\n",
       "  </tbody>\n",
       "</table>\n",
       "</div>"
      ],
      "text/plain": [
       "     Airline Date_of_Journey    Source Destination                  Route  \\\n",
       "0     IndiGo      24/03/2019  Banglore   New Delhi              BLR → DEL   \n",
       "1  Air India       1/05/2019   Kolkata    Banglore  CCU → IXR → BBI → BLR   \n",
       "\n",
       "  Dep_Time Arrival_Time Duration Total_Stops Additional_Info  Price  \\\n",
       "0    Night        Night      170           0         No info   3897   \n",
       "1  Morning    Afternoon      445           2         No info   7662   \n",
       "\n",
       "   Journey_Day  Journey_Month  weekday  \n",
       "0           24              3        6  \n",
       "1            1              5        2  "
      ]
     },
     "execution_count": 12,
     "metadata": {},
     "output_type": "execute_result"
    }
   ],
   "source": [
    "train.head(2)"
   ]
  },
  {
   "cell_type": "code",
   "execution_count": 13,
   "metadata": {
    "colab": {},
    "colab_type": "code",
    "id": "vZOpQeL9YJ2m"
   },
   "outputs": [],
   "source": [
    "train=train.drop([\"Date_of_Journey\",\"Route\"],axis=1) #Date of journey, Route dropped because they dont add value to the prediction much"
   ]
  },
  {
   "cell_type": "code",
   "execution_count": 14,
   "metadata": {
    "colab": {
     "base_uri": "https://localhost:8080/",
     "height": 107
    },
    "colab_type": "code",
    "id": "RepkYu4KY054",
    "outputId": "7e962d98-8094-49f5-9a59-10a2568bf1d1"
   },
   "outputs": [
    {
     "data": {
      "text/html": [
       "<div>\n",
       "<style scoped>\n",
       "    .dataframe tbody tr th:only-of-type {\n",
       "        vertical-align: middle;\n",
       "    }\n",
       "\n",
       "    .dataframe tbody tr th {\n",
       "        vertical-align: top;\n",
       "    }\n",
       "\n",
       "    .dataframe thead th {\n",
       "        text-align: right;\n",
       "    }\n",
       "</style>\n",
       "<table border=\"1\" class=\"dataframe\">\n",
       "  <thead>\n",
       "    <tr style=\"text-align: right;\">\n",
       "      <th></th>\n",
       "      <th>Airline</th>\n",
       "      <th>Source</th>\n",
       "      <th>Destination</th>\n",
       "      <th>Dep_Time</th>\n",
       "      <th>Arrival_Time</th>\n",
       "      <th>Duration</th>\n",
       "      <th>Total_Stops</th>\n",
       "      <th>Additional_Info</th>\n",
       "      <th>Price</th>\n",
       "      <th>Journey_Day</th>\n",
       "      <th>Journey_Month</th>\n",
       "      <th>weekday</th>\n",
       "    </tr>\n",
       "  </thead>\n",
       "  <tbody>\n",
       "    <tr>\n",
       "      <td>0</td>\n",
       "      <td>IndiGo</td>\n",
       "      <td>Banglore</td>\n",
       "      <td>New Delhi</td>\n",
       "      <td>Night</td>\n",
       "      <td>Night</td>\n",
       "      <td>170</td>\n",
       "      <td>0</td>\n",
       "      <td>No info</td>\n",
       "      <td>3897</td>\n",
       "      <td>24</td>\n",
       "      <td>3</td>\n",
       "      <td>6</td>\n",
       "    </tr>\n",
       "    <tr>\n",
       "      <td>1</td>\n",
       "      <td>Air India</td>\n",
       "      <td>Kolkata</td>\n",
       "      <td>Banglore</td>\n",
       "      <td>Morning</td>\n",
       "      <td>Afternoon</td>\n",
       "      <td>445</td>\n",
       "      <td>2</td>\n",
       "      <td>No info</td>\n",
       "      <td>7662</td>\n",
       "      <td>1</td>\n",
       "      <td>5</td>\n",
       "      <td>2</td>\n",
       "    </tr>\n",
       "  </tbody>\n",
       "</table>\n",
       "</div>"
      ],
      "text/plain": [
       "     Airline    Source Destination Dep_Time Arrival_Time Duration Total_Stops  \\\n",
       "0     IndiGo  Banglore   New Delhi    Night        Night      170           0   \n",
       "1  Air India   Kolkata    Banglore  Morning    Afternoon      445           2   \n",
       "\n",
       "  Additional_Info  Price  Journey_Day  Journey_Month  weekday  \n",
       "0         No info   3897           24              3        6  \n",
       "1         No info   7662            1              5        2  "
      ]
     },
     "execution_count": 14,
     "metadata": {},
     "output_type": "execute_result"
    }
   ],
   "source": [
    "train.head(2)"
   ]
  },
  {
   "cell_type": "code",
   "execution_count": 17,
   "metadata": {},
   "outputs": [],
   "source": [
    "test=pd.read_excel(\"Test_set.xlsx\")"
   ]
  },
  {
   "cell_type": "code",
   "execution_count": 18,
   "metadata": {},
   "outputs": [],
   "source": [
    "test['Journey_Day'] = pd.to_datetime(test.Date_of_Journey, format='%d/%m/%Y').dt.day\n",
    "test['Journey_Month'] = pd.to_datetime(test.Date_of_Journey, format='%d/%m/%Y').dt.month\n",
    "test['weekday']= pd.to_datetime(test.Date_of_Journey, format='%d/%m/%Y').dt.weekday\n",
    "test['Duration']=test['Duration'].apply(duration)\n",
    "test['Dep_Time']=test['Dep_Time'].apply(deparrtime)\n",
    "test['Arrival_Time']=test['Arrival_Time'].apply(deparrtime)\n",
    "test['Total_Stops']=test['Total_Stops'].apply(stops)\n",
    "test=test.drop([\"Date_of_Journey\",\"Route\"],axis=1) "
   ]
  },
  {
   "cell_type": "code",
   "execution_count": 24,
   "metadata": {},
   "outputs": [
    {
     "name": "stdout",
     "output_type": "stream",
     "text": [
      "1    5550\n",
      "0    3472\n",
      "2    1302\n",
      "3      43\n",
      "4       1\n",
      "Name: Total_Stops, dtype: int64\n",
      "\n",
      "1    1431\n",
      "0     849\n",
      "2     379\n",
      "3      11\n",
      "4       1\n",
      "Name: Total_Stops, dtype: int64\n"
     ]
    }
   ],
   "source": [
    "print(train[\"Total_Stops\"].value_counts())\n",
    "print()\n",
    "print(test[\"Total_Stops\"].value_counts())"
   ]
  },
  {
   "cell_type": "code",
   "execution_count": 37,
   "metadata": {},
   "outputs": [],
   "source": [
    "#Grouping classes with very low frequency with Airline\n",
    "for i in range(0,len(train[\"Airline\"])):\n",
    "    if train[\"Airline\"].iloc[i]==\"Multiple carriers Premium economy\":\n",
    "         train[\"Airline\"].iloc[i]=\"Others\"\n",
    "    elif train[\"Airline\"].iloc[i]==\"Vistara Premium economy\":\n",
    "         train[\"Airline\"].iloc[i]=\"Others\"\n",
    "    elif train[\"Airline\"].iloc[i]==\"Trujet\":\n",
    "         train[\"Airline\"].iloc[i]=\"Others\""
   ]
  },
  {
   "cell_type": "code",
   "execution_count": 39,
   "metadata": {},
   "outputs": [],
   "source": [
    "#Refining No info class in Additional info\n",
    "for i in range(train.shape[0]):\n",
    "    if(train['Additional_Info'].iloc[i]=='No info'):\n",
    "        train['Additional_Info'].iloc[i]='No Info'"
   ]
  },
  {
   "cell_type": "code",
   "execution_count": 42,
   "metadata": {},
   "outputs": [],
   "source": [
    "#Grouping classes with very low frequency with Additional_Info\n",
    "for i in range(0,len(train[\"Additional_Info\"])):\n",
    "    if train[\"Additional_Info\"].iloc[i]== 'No check-in baggage included':\n",
    "         train[\"Additional_Info\"].iloc[i]=\"Others\"\n",
    "    elif train[\"Additional_Info\"].iloc[i]=='1 Long layover':\n",
    "         train[\"Additional_Info\"].iloc[i]=\"Others\"\n",
    "    elif train[\"Additional_Info\"].iloc[i]== 'Change airports':\n",
    "         train[\"Additional_Info\"].iloc[i]=\"Others\"\n",
    "    elif train[\"Additional_Info\"].iloc[i]=='Red-eye flight':\n",
    "         train[\"Additional_Info\"].iloc[i]=\"Others\""
   ]
  },
  {
   "cell_type": "code",
   "execution_count": 44,
   "metadata": {
    "colab": {
     "base_uri": "https://localhost:8080/",
     "height": 266
    },
    "colab_type": "code",
    "id": "xsVWWXhveLwg",
    "outputId": "967b41ee-0bbf-4fa7-92d4-ef83f2d45bac"
   },
   "outputs": [
    {
     "name": "stdout",
     "output_type": "stream",
     "text": [
      "<class 'pandas.core.frame.DataFrame'>\n",
      "Int64Index: 10368 entries, 0 to 10682\n",
      "Data columns (total 12 columns):\n",
      "Airline            10368 non-null object\n",
      "Source             10368 non-null object\n",
      "Destination        10368 non-null object\n",
      "Dep_Time           10368 non-null object\n",
      "Arrival_Time       10368 non-null object\n",
      "Duration           10368 non-null object\n",
      "Total_Stops        10368 non-null object\n",
      "Additional_Info    10368 non-null object\n",
      "Price              10368 non-null int64\n",
      "Journey_Day        10368 non-null int64\n",
      "Journey_Month      10368 non-null int64\n",
      "weekday            10368 non-null int64\n",
      "dtypes: int64(4), object(8)\n",
      "memory usage: 1.0+ MB\n"
     ]
    }
   ],
   "source": [
    "train.info()"
   ]
  },
  {
   "cell_type": "code",
   "execution_count": 45,
   "metadata": {
    "colab": {},
    "colab_type": "code",
    "id": "WvDXcswYeTj3"
   },
   "outputs": [],
   "source": [
    "train[\"Duration\"]=train[\"Duration\"].astype(int)\n",
    "train[\"weekday\"]=train[\"weekday\"].astype(object)\n",
    "train[\"Journey_Day\"]=train[\"Journey_Day\"].astype(object)\n",
    "train[\"Journey_Month\"]=train[\"Journey_Month\"].astype(object)"
   ]
  },
  {
   "cell_type": "code",
   "execution_count": 46,
   "metadata": {
    "colab": {},
    "colab_type": "code",
    "id": "gHw9-xFHe5fZ"
   },
   "outputs": [],
   "source": [
    "# Import label encoder \n",
    "colnames = list(train.columns)\n",
    "# label_encoder object knows how to understand word labels. \n",
    "label_encoder = preprocessing.LabelEncoder() \n",
    "  \n",
    "for col in colnames:\n",
    "    if train[col].dtype==object:\n",
    "        train[col]= label_encoder.fit_transform(train[col])\n",
    "        train[col]=train[col].astype(object)"
   ]
  },
  {
   "cell_type": "code",
   "execution_count": 47,
   "metadata": {
    "colab": {},
    "colab_type": "code",
    "id": "1j679zhEfHzm"
   },
   "outputs": [],
   "source": [
    "train[\"Duration\"]= (train[\"Duration\"] - train[\"Duration\"].mean())/train[\"Duration\"].std()"
   ]
  },
  {
   "cell_type": "code",
   "execution_count": 48,
   "metadata": {
    "colab": {},
    "colab_type": "code",
    "id": "hAjlMKicfxVZ"
   },
   "outputs": [],
   "source": [
    "X=train.drop([\"Price\"],axis=1)\n",
    "Y=train[\"Price\"]\n",
    "x=np.array(X)\n",
    "y=np.array(Y)"
   ]
  },
  {
   "cell_type": "code",
   "execution_count": 49,
   "metadata": {
    "colab": {},
    "colab_type": "code",
    "id": "gTdMw72hf6_S"
   },
   "outputs": [
    {
     "name": "stdout",
     "output_type": "stream",
     "text": [
      "Cross validation score: 89.99% (+/- 1.06%)\n"
     ]
    }
   ],
   "source": [
    "#Ramdom Forest\n",
    "estimator = RandomForestRegressor()\n",
    "param_grid = { \n",
    "            \"n_estimators\"      : [100,300,500],\n",
    "            \"max_features\"      : [\"auto\", \"sqrt\", \"log2\"],\n",
    "            \"min_samples_split\" : [2,4,8],\n",
    "            \"bootstrap\": [True,False],\n",
    "            }\n",
    "rfmodel = GridSearchCV(estimator, param_grid, n_jobs=-1, cv=5)\n",
    "rfmodel.fit(x, y)\n",
    "scores = cross_val_score(rfmodel, x, y, cv=5)\n",
    "print(\"Cross validation score: {0:.2%} (+/- {1:.2%})\".format(np.mean(scores), np.std(scores)*2))"
   ]
  },
  {
   "cell_type": "code",
   "execution_count": 50,
   "metadata": {
    "colab": {},
    "colab_type": "code",
    "id": "UgCluD9yj8Pe"
   },
   "outputs": [
    {
     "name": "stdout",
     "output_type": "stream",
     "text": [
      "GBM Cross validation score: 91.38% (+/- 1.02%)\n",
      "XGBoost Cross validation score: 91.54% (+/- 0.99%)\n"
     ]
    }
   ],
   "source": [
    "#Gradient Boosting and XGBoost\n",
    "gbm = GradientBoostingRegressor()\n",
    "xgb = XGBRegressor()\n",
    "best_gbm = GridSearchCV(gbm, param_grid={'learning_rate':[0.01,0.05,0.1],'max_depth':[3,5,7],'n_estimators':[500]}, cv=5, n_jobs=-1)\n",
    "best_xgb = GridSearchCV(xgb, param_grid={'learning_rate':[0.01,0.05,0.1],'max_depth':[3,5,7],'n_estimators':[500]}, cv=5, n_jobs=-1)\n",
    "best_gbm.fit(x,y)\n",
    "best_xgb.fit(x,y)\n",
    "scores = cross_val_score(best_gbm.best_estimator_, x, y, cv=5)\n",
    "print(\"GBM Cross validation score: {0:.2%} (+/- {1:.2%})\".format(np.mean(scores), np.std(scores)*2))\n",
    "scores = cross_val_score(best_xgb.best_estimator_, x, y, cv=5)\n",
    "print(\"XGBoost Cross validation score: {0:.2%} (+/- {1:.2%})\".format(np.mean(scores), np.std(scores)*2))"
   ]
  },
  {
   "cell_type": "code",
   "execution_count": 97,
   "metadata": {},
   "outputs": [],
   "source": [
    "#Doing similar pre-processing in test data"
   ]
  },
  {
   "cell_type": "code",
   "execution_count": 60,
   "metadata": {},
   "outputs": [],
   "source": [
    "test=pd.read_excel(\"Test_set.xlsx\")"
   ]
  },
  {
   "cell_type": "code",
   "execution_count": 61,
   "metadata": {},
   "outputs": [],
   "source": [
    "test['Journey_Day'] = pd.to_datetime(test.Date_of_Journey, format='%d/%m/%Y').dt.day\n",
    "test['Journey_Month'] = pd.to_datetime(test.Date_of_Journey, format='%d/%m/%Y').dt.month\n",
    "test['weekday']= pd.to_datetime(test.Date_of_Journey, format='%d/%m/%Y').dt.weekday"
   ]
  },
  {
   "cell_type": "code",
   "execution_count": 62,
   "metadata": {},
   "outputs": [],
   "source": [
    "test['Duration']=test['Duration'].apply(duration)"
   ]
  },
  {
   "cell_type": "code",
   "execution_count": 63,
   "metadata": {},
   "outputs": [],
   "source": [
    "test['Dep_Time']=test['Dep_Time'].apply(deparrtime)\n",
    "test['Arrival_Time']=test['Arrival_Time'].apply(deparrtime)"
   ]
  },
  {
   "cell_type": "code",
   "execution_count": 64,
   "metadata": {},
   "outputs": [],
   "source": [
    "test['Total_Stops']=test['Total_Stops'].apply(stops)"
   ]
  },
  {
   "cell_type": "code",
   "execution_count": 65,
   "metadata": {},
   "outputs": [],
   "source": [
    "test=test.drop([\"Date_of_Journey\",\"Route\"],axis=1)"
   ]
  },
  {
   "cell_type": "code",
   "execution_count": 67,
   "metadata": {},
   "outputs": [],
   "source": [
    "for i in range(0,len(test[\"Airline\"])):\n",
    "    if test[\"Airline\"].iloc[i]==\"Multiple carriers Premium economy\":\n",
    "         test[\"Airline\"].iloc[i]=\"Others\"\n",
    "    elif test[\"Airline\"].iloc[i]==\"Vistara Premium economy\":\n",
    "         test[\"Airline\"].iloc[i]=\"Others\"\n",
    "    elif test[\"Airline\"].iloc[i]==\"Trujet\":\n",
    "         test[\"Airline\"].iloc[i]=\"Others\"\n",
    "    elif test[\"Airline\"].iloc[i]==\"Jet Airways Business\":\n",
    "         test[\"Airline\"].iloc[i]=\"Others\""
   ]
  },
  {
   "cell_type": "code",
   "execution_count": 72,
   "metadata": {},
   "outputs": [],
   "source": [
    "for i in range(0,len(test[\"Additional_Info\"])):\n",
    "    if test[\"Additional_Info\"].iloc[i]== 'No check-in baggage included':\n",
    "         test[\"Additional_Info\"].iloc[i]=\"Others\"\n",
    "    elif test[\"Additional_Info\"].iloc[i]=='1 Long layover':\n",
    "         test[\"Additional_Info\"].iloc[i]=\"Others\"\n",
    "    elif test[\"Additional_Info\"].iloc[i]== 'Change airports':\n",
    "         test[\"Additional_Info\"].iloc[i]=\"Others\"\n",
    "    elif test[\"Additional_Info\"].iloc[i]=='Business class':\n",
    "         test[\"Additional_Info\"].iloc[i]=\"Others\""
   ]
  },
  {
   "cell_type": "code",
   "execution_count": 74,
   "metadata": {},
   "outputs": [
    {
     "name": "stdout",
     "output_type": "stream",
     "text": [
      "<class 'pandas.core.frame.DataFrame'>\n",
      "RangeIndex: 2671 entries, 0 to 2670\n",
      "Data columns (total 11 columns):\n",
      "Airline            2671 non-null object\n",
      "Source             2671 non-null object\n",
      "Destination        2671 non-null object\n",
      "Dep_Time           2671 non-null object\n",
      "Arrival_Time       2671 non-null object\n",
      "Duration           2671 non-null object\n",
      "Total_Stops        2671 non-null object\n",
      "Additional_Info    2671 non-null object\n",
      "Journey_Day        2671 non-null int64\n",
      "Journey_Month      2671 non-null int64\n",
      "weekday            2671 non-null int64\n",
      "dtypes: int64(3), object(8)\n",
      "memory usage: 229.7+ KB\n"
     ]
    }
   ],
   "source": [
    "test.info()"
   ]
  },
  {
   "cell_type": "code",
   "execution_count": 76,
   "metadata": {},
   "outputs": [],
   "source": [
    "test[\"Duration\"]=test[\"Duration\"].astype(int)\n",
    "test[\"weekday\"]=test[\"weekday\"].astype(object)\n",
    "test[\"Journey_Day\"]=test[\"Journey_Day\"].astype(object)\n",
    "test[\"Journey_Month\"]=test[\"Journey_Month\"].astype(object)"
   ]
  },
  {
   "cell_type": "code",
   "execution_count": 77,
   "metadata": {},
   "outputs": [],
   "source": [
    "# Import label encoder \n",
    "colnames = list(test.columns)\n",
    "# label_encoder object knows how to understand word labels. \n",
    "label_encoder = preprocessing.LabelEncoder() \n",
    "  \n",
    "for col in colnames:\n",
    "    if test[col].dtype==object:\n",
    "        test[col]= label_encoder.fit_transform(test[col])\n",
    "        test[col]=test[col].astype(object)"
   ]
  },
  {
   "cell_type": "code",
   "execution_count": 78,
   "metadata": {},
   "outputs": [],
   "source": [
    "test[\"Duration\"]= (test[\"Duration\"] - test[\"Duration\"].mean())/test[\"Duration\"].std()"
   ]
  },
  {
   "cell_type": "code",
   "execution_count": 79,
   "metadata": {},
   "outputs": [],
   "source": [
    "x=np.array(test)"
   ]
  },
  {
   "cell_type": "code",
   "execution_count": 81,
   "metadata": {},
   "outputs": [],
   "source": [
    "ypred=best_xgb.best_estimator_.predict(x)"
   ]
  },
  {
   "cell_type": "code",
   "execution_count": 82,
   "metadata": {},
   "outputs": [],
   "source": [
    "test[\"Price\"]=ypred"
   ]
  },
  {
   "cell_type": "code",
   "execution_count": 83,
   "metadata": {},
   "outputs": [
    {
     "name": "stderr",
     "output_type": "stream",
     "text": [
      "C:\\Users\\subha\\Anaconda3\\lib\\site-packages\\ipykernel_launcher.py:1: FutureWarning: The signature of `Series.to_csv` was aligned to that of `DataFrame.to_csv`, and argument 'header' will change its default value from False to True: please pass an explicit value to suppress this warning.\n",
      "  \"\"\"Entry point for launching an IPython kernel.\n"
     ]
    }
   ],
   "source": [
    "test[\"Price\"].to_csv(\"submissionflight.csv\")"
   ]
  }
 ],
 "metadata": {
  "colab": {
   "name": "Flight_fare_prediction.ipynb",
   "provenance": []
  },
  "kernelspec": {
   "display_name": "Python 3",
   "language": "python",
   "name": "python3"
  },
  "language_info": {
   "codemirror_mode": {
    "name": "ipython",
    "version": 3
   },
   "file_extension": ".py",
   "mimetype": "text/x-python",
   "name": "python",
   "nbconvert_exporter": "python",
   "pygments_lexer": "ipython3",
   "version": "3.7.4"
  }
 },
 "nbformat": 4,
 "nbformat_minor": 1
}
